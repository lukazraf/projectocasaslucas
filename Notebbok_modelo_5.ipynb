{
 "cells": [
  {
   "cell_type": "markdown",
   "id": "c3117fd2",
   "metadata": {},
   "source": [
    "\n",
    "## Trabajo Machine Learning"
   ]
  },
  {
   "cell_type": "code",
   "execution_count": 1,
   "id": "cafb681c",
   "metadata": {},
   "outputs": [],
   "source": [
    "#Librerias\n",
    "\n",
    "#Libreria del sistema\n",
    "import os\n",
    "#Manejo de datos\n",
    "import pandas as pd\n",
    "#Separacion de entrenamiento y aprendizaje\n",
    "from sklearn.model_selection import train_test_split, GridSearchCV, KFold\n",
    "#Modelo Lasso\n",
    "from sklearn.linear_model import Lasso\n",
    "#Metricas del modelo\n",
    "from sklearn.metrics import mean_squared_error, mean_absolute_error,r2_score"
   ]
  },
  {
   "cell_type": "code",
   "execution_count": 2,
   "id": "5cc3d3c7",
   "metadata": {},
   "outputs": [],
   "source": [
    "#Data\n",
    "\n",
    "#Carga datos\n",
    "data = pd.read_csv('kc_house_data.csv', sep = ',')\n",
    "\n",
    "data['date'] = pd.to_datetime(data['date'],format = '%Y-%m-%d')\n",
    "data.loc[data['yr_renovated'] != 0, 'yr_renovated'] = pd.to_datetime(data.loc[data['yr_renovated'] != 0, 'yr_renovated'], format = '%Y')\n",
    "\n",
    "df = data\n",
    "\n",
    "df['yr_renovated_dummy'] = data['yr_renovated'].apply(lambda x: 1 if x!=0 else 0)\n",
    "\n",
    "df = df.drop(['yr_renovated'], axis=1)\n",
    "\n",
    "df['age_property'] = 2022 - data['yr_built']\n",
    "\n",
    "\n",
    "columns = ['price','bedrooms', 'bathrooms', 'sqft_living','waterfront', 'view', 'condition', 'grade', 'yr_renovated_dummy','age_property']\n",
    "\n",
    "df = df[columns]\n"
   ]
  },
  {
   "cell_type": "code",
   "execution_count": 3,
   "id": "a3b2941a",
   "metadata": {},
   "outputs": [],
   "source": [
    "#Creacion del modelo usando Lasso\n",
    "\n",
    "Y = df['price']\n",
    "X = df.drop(columns = ['price'])\n",
    "\n",
    "X_train, X_test, Y_train, Y_test = train_test_split(X, Y, test_size = 0.25, random_state = 0)"
   ]
  },
  {
   "cell_type": "code",
   "execution_count": 4,
   "id": "22c72a58",
   "metadata": {},
   "outputs": [
    {
     "data": {
      "text/plain": [
       "Lasso(alpha=1, normalize='True')"
      ]
     },
     "execution_count": 4,
     "metadata": {},
     "output_type": "execute_result"
    }
   ],
   "source": [
    "modelo = Lasso(alpha=1, normalize='True')\n",
    "modelo.fit(X_train, Y_train)"
   ]
  },
  {
   "cell_type": "code",
   "execution_count": 5,
   "id": "deca523c",
   "metadata": {},
   "outputs": [
    {
     "name": "stdout",
     "output_type": "stream",
     "text": [
      "MSE: 47399111514.82\n",
      "MAE: 137972.41\n",
      "R^2: 0.64\n"
     ]
    }
   ],
   "source": [
    "y_pred = modelo.predict(X_test)\n",
    "\n",
    "print(\"MSE: %.2f\" % mean_squared_error(Y_test, y_pred, squared =True))\n",
    "print(\"MAE: %.2f\" % mean_absolute_error(Y_test, y_pred))\n",
    "print(\"R^2: %.2f\" % r2_score(Y_test, y_pred) )"
   ]
  },
  {
   "cell_type": "code",
   "execution_count": 6,
   "id": "3a83ba4f",
   "metadata": {},
   "outputs": [],
   "source": [
    "particiones = KFold(n_splits=10, shuffle=True, random_state=0)\n",
    "param_grid = {'alpha': [1e-30,1e-20,1e-15,0.1,0.2,0.3,0.5,0.8,1,1.5,2,3,4,5,10,30]}\n",
    "modelo = Lasso()"
   ]
  },
  {
   "cell_type": "code",
   "execution_count": 7,
   "id": "c0bd3bd2",
   "metadata": {},
   "outputs": [
    {
     "name": "stderr",
     "output_type": "stream",
     "text": [
      "C:\\Users\\felip\\anaconda3\\lib\\site-packages\\sklearn\\linear_model\\_coordinate_descent.py:530: ConvergenceWarning: Objective did not converge. You might want to increase the number of iterations. Duality gap: 381058779902672.75, tolerance: 219486685028.40982\n",
      "  model = cd_fast.enet_coordinate_descent(\n"
     ]
    },
    {
     "data": {
      "text/plain": [
       "GridSearchCV(cv=KFold(n_splits=10, random_state=0, shuffle=True),\n",
       "             estimator=Lasso(), n_jobs=-1,\n",
       "             param_grid={'alpha': [1e-30, 1e-20, 1e-15, 0.1, 0.2, 0.3, 0.5, 0.8,\n",
       "                                   1, 1.5, 2, 3, 4, 5, 10, 30]},\n",
       "             scoring='neg_mean_squared_error')"
      ]
     },
     "execution_count": 7,
     "metadata": {},
     "output_type": "execute_result"
    }
   ],
   "source": [
    "modelo_2 = GridSearchCV(modelo, param_grid, scoring ='neg_mean_squared_error', cv=particiones, n_jobs=-1)\n",
    "modelo_2.fit(X_train, Y_train)"
   ]
  },
  {
   "cell_type": "code",
   "execution_count": 8,
   "id": "4155fecb",
   "metadata": {},
   "outputs": [
    {
     "name": "stdout",
     "output_type": "stream",
     "text": [
      "Mejor parámetro: {'alpha': 1e-30}\n"
     ]
    }
   ],
   "source": [
    "print(\"Mejor parámetro: {}\".format(modelo_2.best_params_))"
   ]
  },
  {
   "cell_type": "code",
   "execution_count": 9,
   "id": "e70b591a",
   "metadata": {},
   "outputs": [
    {
     "name": "stdout",
     "output_type": "stream",
     "text": [
      "R^2: 0.64\n",
      "RMSE: 217696.90\n",
      "MSE: 47391938591.92\n",
      "MAE: 137997.69\n"
     ]
    }
   ],
   "source": [
    "modelo_2 = modelo_2.best_estimator_\n",
    "\n",
    "y_pred = modelo_2.predict(X_test)\n",
    "\n",
    "print(\"R^2: %.2f\" % r2_score(Y_test, y_pred) )\n",
    "print(\"RMSE: %.2f\" % mean_squared_error(Y_test, y_pred, squared = False))\n",
    "print(\"MSE: %.2f\" % mean_squared_error(Y_test, y_pred, squared =True))\n",
    "print(\"MAE: %.2f\" % mean_absolute_error(Y_test, y_pred))\n",
    "\n"
   ]
  },
  {
   "cell_type": "code",
   "execution_count": 15,
   "id": "4614709d",
   "metadata": {},
   "outputs": [
    {
     "name": "stdout",
     "output_type": "stream",
     "text": [
      "El precio estimadoes: 943816.86 $$$\n"
     ]
    }
   ],
   "source": [
    "#Prueba\n",
    "\n",
    "bedrooms = 1\n",
    "bathrooms = 3\n",
    "sqft_living = 1500\n",
    "waterfront = 1\n",
    "view = 1\n",
    "condition = 3\n",
    "grade = 7\n",
    "yr_renovated_dummy = 0\n",
    "age_property = 12\n",
    "\n",
    "Precio_modelo = modelo_2.predict([[bedrooms,bathrooms,sqft_living, waterfront,view,condition,grade, yr_renovated_dummy,age_property]])\n",
    "\n",
    "print(\"El precio estimadoes: %.2f $$$\" % Precio_modelo)"
   ]
  },
  {
   "cell_type": "code",
   "execution_count": null,
   "id": "11fb7273",
   "metadata": {},
   "outputs": [],
   "source": []
  }
 ],
 "metadata": {
  "kernelspec": {
   "display_name": "Python 3 (ipykernel)",
   "language": "python",
   "name": "python3"
  },
  "language_info": {
   "codemirror_mode": {
    "name": "ipython",
    "version": 3
   },
   "file_extension": ".py",
   "mimetype": "text/x-python",
   "name": "python",
   "nbconvert_exporter": "python",
   "pygments_lexer": "ipython3",
   "version": "3.9.7"
  }
 },
 "nbformat": 4,
 "nbformat_minor": 5
}
